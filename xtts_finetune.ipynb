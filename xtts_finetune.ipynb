{
  "nbformat": 4,
  "nbformat_minor": 0,
  "metadata": {
    "colab": {
      "provenance": [],
      "gpuType": "T4"
    },
    "kernelspec": {
      "name": "python3",
      "display_name": "Python 3"
    },
    "language_info": {
      "name": "python"
    },
    "accelerator": "GPU"
  },
  "cells": [
    {
      "cell_type": "code",
      "execution_count": null,
      "metadata": {
        "id": "reZHinG98Sw3"
      },
      "outputs": [],
      "source": [
        "!git clone https://github.com/Vali-98/xtts-finetune-webui.git"
      ]
    },
    {
      "cell_type": "code",
      "source": [
        "cd /content/xtts-finetune-webui"
      ],
      "metadata": {
        "id": "3wmrDWkh8q4D"
      },
      "execution_count": null,
      "outputs": []
    },
    {
      "cell_type": "markdown",
      "source": [
        "Needed if something goes bad"
      ],
      "metadata": {
        "id": "MaEII7B2Ht10"
      }
    },
    {
      "cell_type": "code",
      "source": [
        "!rm -rf /content/xtts-finetune-webui/finetune_models/run"
      ],
      "metadata": {
        "id": "BrboJMZuDCmr"
      },
      "execution_count": 4,
      "outputs": []
    },
    {
      "cell_type": "markdown",
      "source": [
        "**IMPORTANT**: Installing numpy seems to require a session restart. Do so when prompted!"
      ],
      "metadata": {
        "id": "7COU8yfHHwNk"
      }
    },
    {
      "cell_type": "code",
      "source": [
        "!pip install -r requirements.txt"
      ],
      "metadata": {
        "id": "8PBHp_8F81wm"
      },
      "execution_count": null,
      "outputs": []
    },
    {
      "cell_type": "code",
      "source": [
        "!python xtts_demo.py"
      ],
      "metadata": {
        "id": "HlotnFEb-XLX"
      },
      "execution_count": null,
      "outputs": []
    },
    {
      "cell_type": "markdown",
      "source": [
        "Idk if numpy fails use this"
      ],
      "metadata": {
        "id": "-WhMwu-ZR7Od"
      }
    },
    {
      "cell_type": "code",
      "source": [
        "!pip install numpy==1.23.5"
      ],
      "metadata": {
        "id": "DQSfIUFzD60j"
      },
      "execution_count": null,
      "outputs": []
    },
    {
      "cell_type": "markdown",
      "source": [
        "If you want to move to drive for storage before downloading"
      ],
      "metadata": {
        "id": "NNXWST1sR3dh"
      }
    },
    {
      "cell_type": "code",
      "source": [
        "!cp /content/xtts-finetune-webui/finetune_models/ready/model.pth /content/drive/MyDrive"
      ],
      "metadata": {
        "id": "4FMQ1HpIPxmD"
      },
      "execution_count": 6,
      "outputs": []
    }
  ]
}
